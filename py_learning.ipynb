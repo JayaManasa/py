{
  "nbformat": 4,
  "nbformat_minor": 0,
  "metadata": {
    "colab": {
      "provenance": [],
      "toc_visible": true,
      "authorship_tag": "ABX9TyPPC77XfGAoxBUSHWV3YN9x",
      "include_colab_link": true
    },
    "kernelspec": {
      "name": "python3",
      "display_name": "Python 3"
    },
    "language_info": {
      "name": "python"
    }
  },
  "cells": [
    {
      "cell_type": "markdown",
      "metadata": {
        "id": "view-in-github",
        "colab_type": "text"
      },
      "source": [
        "<a href=\"https://colab.research.google.com/github/JayaManasa/py/blob/master/py_learning.ipynb\" target=\"_parent\"><img src=\"https://colab.research.google.com/assets/colab-badge.svg\" alt=\"Open In Colab\"/></a>"
      ]
    },
    {
      "cell_type": "markdown",
      "source": [
        "Contains **Duplicate**"
      ],
      "metadata": {
        "id": "b8imtwmL895s"
      }
    },
    {
      "cell_type": "code",
      "execution_count": 5,
      "metadata": {
        "colab": {
          "base_uri": "https://localhost:8080/"
        },
        "id": "leQM6BGa6Pbq",
        "outputId": "fd7f15fb-926e-4fd9-9a97-20fab4ec5a23"
      },
      "outputs": [
        {
          "output_type": "stream",
          "name": "stdout",
          "text": [
            "same number 1\n",
            "same number 2\n",
            "same number 2\n",
            "same number 2\n"
          ]
        }
      ],
      "source": [
        "n = [1,1,2, 2,2,3,6]\n",
        "\n",
        "for i in range(len(n)):\n",
        "  for  j in range( i + 1, len(n)):\n",
        "    if n[i] == n[j]:\n",
        "      print('same number', n[i])\n",
        ""
      ]
    },
    {
      "cell_type": "markdown",
      "source": [
        "Anagram"
      ],
      "metadata": {
        "id": "L_goULKiHPgP"
      }
    },
    {
      "cell_type": "code",
      "source": [
        "x = 'silent'\n",
        "y = 'listen'\n",
        "\n",
        "def isAnagram(x, y):\n",
        "  if len(x) == len(y):\n",
        "    return sorted(x) == sorted(y)\n",
        "\n",
        "  return False\n",
        "\n",
        "\n",
        "result = isAnagram(x, y)\n",
        "print(result)\n"
      ],
      "metadata": {
        "colab": {
          "base_uri": "https://localhost:8080/"
        },
        "id": "d22754Dx_CJC",
        "outputId": "c602c519-eccf-42eb-a14c-ebcf6521ba12"
      },
      "execution_count": 11,
      "outputs": [
        {
          "output_type": "stream",
          "name": "stdout",
          "text": [
            "True\n"
          ]
        }
      ]
    },
    {
      "cell_type": "markdown",
      "source": [
        "Two Sum"
      ],
      "metadata": {
        "id": "0U6iiPLJHTGt"
      }
    },
    {
      "cell_type": "code",
      "source": [
        "n = [1 , 2, 3, 8, 10 ]\n",
        "target = 4\n",
        "\n",
        "def two_sum(n, target):\n",
        "  for i in range(len(n)):\n",
        "    for j in range(i + 1, len(n)):\n",
        "      if n[i] + n[j] == target:\n",
        "        return [i ,j]\n",
        "\n",
        "\n",
        "result = two_sum(n, target)\n",
        "print(result)\n",
        "\n"
      ],
      "metadata": {
        "colab": {
          "base_uri": "https://localhost:8080/"
        },
        "id": "7dwKrzhFHVQ3",
        "outputId": "b28e1d46-0702-49cc-9fe1-b844c098b4f7"
      },
      "execution_count": 16,
      "outputs": [
        {
          "output_type": "stream",
          "name": "stdout",
          "text": [
            "[0, 2]\n"
          ]
        }
      ]
    },
    {
      "cell_type": "code",
      "source": [
        "word = 'manasa'\n",
        "def palindrome(word):\n",
        "  return word == word[::-1]\n",
        "\n",
        "print(palindrome(word))\n",
        "print(palindrome('madam'))"
      ],
      "metadata": {
        "colab": {
          "base_uri": "https://localhost:8080/"
        },
        "id": "QJ2t7AxYLIQk",
        "outputId": "66aa0312-f63a-4a84-e6c2-a5d7e9a668a3"
      },
      "execution_count": 22,
      "outputs": [
        {
          "output_type": "stream",
          "name": "stdout",
          "text": [
            "False\n",
            "True\n"
          ]
        }
      ]
    },
    {
      "cell_type": "code",
      "source": [
        "from inspect import stack\n",
        "s = \"({[]})\"\n",
        "\n",
        "def valid_parentheses(s):\n",
        "  bracket_map = {')': '(', '}': '{', ']': '['}\n",
        "  stack = []\n",
        "  for char in s:\n",
        "    if char not in bracket_map:\n",
        "      stack.append(char)\n",
        "    else:\n",
        "      if not stack or stack[-1] != bracket_map[char]:\n",
        "          return False\n",
        "      stack.pop()\n",
        "  return len(stack) ==0\n",
        "\n",
        "print(valid_parentheses(s))\n",
        "\n",
        "\n",
        ""
      ],
      "metadata": {
        "colab": {
          "base_uri": "https://localhost:8080/"
        },
        "id": "22KFmk-xN5yb",
        "outputId": "32e6837a-8a59-4471-ecff-8fa526dfc91e"
      },
      "execution_count": 27,
      "outputs": [
        {
          "output_type": "stream",
          "name": "stdout",
          "text": [
            "True\n"
          ]
        }
      ]
    },
    {
      "cell_type": "code",
      "source": [
        "numbers = [1, 2, 6, 44, 6, 1 , 2, 3, 8, 10]\n",
        "target = 8\n",
        "\n",
        "def binary_search(numbers, target):\n",
        "\n",
        "  numbers =sorted(numbers)\n",
        "  left = 0\n",
        "  right = len(numbers) -1\n",
        "\n",
        "  while left<= right:\n",
        "    mid = (left + right)//2\n",
        "\n",
        "    if numbers[mid]== target:\n",
        "      return mid\n",
        "    elif numbers[mid] < target:\n",
        "      left = mid + 1\n",
        "    else:\n",
        "      right = mid - 1\n",
        "  return -1\n",
        "\n",
        "print(binary_search(numbers, 6))"
      ],
      "metadata": {
        "colab": {
          "base_uri": "https://localhost:8080/"
        },
        "id": "LR5EtwuVWdKm",
        "outputId": "c4f475b5-004a-47ce-dce2-3d5ea07a59d0"
      },
      "execution_count": 31,
      "outputs": [
        {
          "output_type": "stream",
          "name": "stdout",
          "text": [
            "5\n"
          ]
        }
      ]
    },
    {
      "cell_type": "markdown",
      "source": [
        " Rock Paper Scissors"
      ],
      "metadata": {
        "id": "Jk8EFOOJ8sK5"
      }
    },
    {
      "cell_type": "code",
      "source": [
        "player_1 = input(\"enter your input from rock, paper and sciscors for player 1\")\n",
        "player_2 = input(\"enter your input from rock, paper and sciscors for player 2\")\n",
        "\n",
        "def rock_paper_scissors(player_1, player_2):\n",
        "\n",
        "  rules = {\n",
        "        'rock': 'scissors',\n",
        "        'scissors': 'paper',\n",
        "        'paper': 'rock'\n",
        "    }\n",
        "\n",
        "\n",
        "  if player_1 == player_2:\n",
        "    return('its a tie!')\n",
        "\n",
        "  if rules[player_1 ] == player_2:\n",
        "    return(\"player_1 wins\")\n",
        "  else:\n",
        "    return(\"player_2 wins\")\n",
        "\n",
        "print(rock_paper_scissors(player_1, player_2))\n",
        "\n",
        "\n"
      ],
      "metadata": {
        "colab": {
          "base_uri": "https://localhost:8080/"
        },
        "id": "ijRMdBS98rgn",
        "outputId": "7a35d1f0-5cdc-49a4-c7b1-6a6533227882"
      },
      "execution_count": 34,
      "outputs": [
        {
          "output_type": "stream",
          "name": "stdout",
          "text": [
            "enter your input from rock, paper and sciscors for player 1rock\n",
            "enter your input from rock, paper and sciscors for player 2paper\n",
            "player_2 wins\n"
          ]
        }
      ]
    },
    {
      "cell_type": "markdown",
      "source": [
        "Guessing game"
      ],
      "metadata": {
        "id": "3nk0QNFQE7eH"
      }
    },
    {
      "cell_type": "code",
      "source": [
        "\n",
        "\n",
        "\n",
        "#print(guessed)\n",
        "\n",
        "user_input = int(input(\"guess a number between 1 to 3\"))\n",
        "\n",
        "\n",
        "\n",
        "def guessing_game(user_input):\n",
        "\n",
        "  guessed= randint(1, 3)\n",
        "  if guessed==user:\n",
        "    return(\"you have guessed right\")\n",
        "  elif guessed> user:\n",
        "    return(\"high\")\n",
        "  else:\n",
        "    return(\"low\")\n",
        "\n",
        "print(guessing_game(3))\n"
      ],
      "metadata": {
        "colab": {
          "base_uri": "https://localhost:8080/"
        },
        "id": "uqBEXcliE9eF",
        "outputId": "4b4fabac-a362-45b6-dfc1-bf0a2bd82f00"
      },
      "execution_count": 53,
      "outputs": [
        {
          "output_type": "stream",
          "name": "stdout",
          "text": [
            "guess a number between 1 to 23\n",
            "low\n"
          ]
        }
      ]
    },
    {
      "cell_type": "markdown",
      "source": [
        "Check Primality Functions"
      ],
      "metadata": {
        "id": "16dljk25K8FP"
      }
    },
    {
      "cell_type": "code",
      "source": [
        "def prime_function(input):\n",
        "  if input<2:\n",
        "    return False\n",
        "\n",
        "  elif input(range(2, ))\n",
        "\n",
        "\n"
      ],
      "metadata": {
        "id": "A7FxLAskK6kS"
      },
      "execution_count": null,
      "outputs": []
    },
    {
      "cell_type": "markdown",
      "source": [
        " Reverse Word Order\n",
        "\n",
        "```\n",
        "# This is formatted as code\n",
        "```\n",
        "\n"
      ],
      "metadata": {
        "id": "1qrxL8AsRTyt"
      }
    },
    {
      "cell_type": "code",
      "source": [
        "user_input = input(\"enter 4 words\")\n",
        "#result = user_input.split(\" \")\n",
        "#reverse= result[::-1]\n",
        "#print(reverse)\n",
        "\n",
        "def reverse_word(user_input):\n",
        "  result = user_input.split(\" \")\n",
        "  reverse = result[::-1]\n",
        "  return \" \".join(reverse)\n",
        "\n",
        "print(reverse_word(user_input))"
      ],
      "metadata": {
        "colab": {
          "base_uri": "https://localhost:8080/"
        },
        "id": "rn__iz_1RUA9",
        "outputId": "9901fc04-eab9-49fa-ca93-6f6bf5d46f68"
      },
      "execution_count": 62,
      "outputs": [
        {
          "output_type": "stream",
          "name": "stdout",
          "text": [
            "enter 4 wordsmy name is Manasa\n",
            "Manasa is name my\n"
          ]
        }
      ]
    },
    {
      "cell_type": "code",
      "source": [],
      "metadata": {
        "id": "hf5UvsVVXvnf"
      },
      "execution_count": null,
      "outputs": []
    }
  ]
}